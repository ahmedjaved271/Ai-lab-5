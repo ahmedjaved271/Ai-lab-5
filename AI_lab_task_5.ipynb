{
  "nbformat": 4,
  "nbformat_minor": 0,
  "metadata": {
    "colab": {
      "provenance": []
    },
    "kernelspec": {
      "name": "python3",
      "display_name": "Python 3"
    },
    "language_info": {
      "name": "python"
    }
  },
  "cells": [
    {
      "cell_type": "code",
      "execution_count": 1,
      "metadata": {
        "colab": {
          "base_uri": "https://localhost:8080/"
        },
        "id": "d2y4DND4x8I9",
        "outputId": "cf55a8ea-dbe5-48c3-b519-736f1789316a"
      },
      "outputs": [
        {
          "output_type": "stream",
          "name": "stdout",
          "text": [
            "DFS Traversal with Stack:\n",
            "1 2 4 5 3 6 7 "
          ]
        }
      ],
      "source": [
        "# Task 1: DFS With Stack and Node\n",
        "\n",
        "class Node:\n",
        "    def __init__(self, value):\n",
        "        self.value = value\n",
        "        self.left = None\n",
        "        self.right = None\n",
        "\n",
        "def dfs_with_stack(root):\n",
        "    if root is None:\n",
        "        return\n",
        "\n",
        "    stack = [root]\n",
        "    while stack:\n",
        "        current = stack.pop()\n",
        "        print(current.value, end=\" \")\n",
        "\n",
        "        if current.right:\n",
        "            stack.append(current.right)\n",
        "        if current.left:\n",
        "            stack.append(current.left)\n",
        "\n",
        "root = Node(1)\n",
        "root.left = Node(2)\n",
        "root.right = Node(3)\n",
        "root.left.left = Node(4)\n",
        "root.left.right = Node(5)\n",
        "root.right.left = Node(6)\n",
        "root.right.right = Node(7)\n",
        "\n",
        "print(\"DFS Traversal with Stack:\")\n",
        "dfs_with_stack(root)\n"
      ]
    },
    {
      "cell_type": "code",
      "source": [
        "# Task 2: Research About \"In-order, Pre-order, and Post-order\" implement in DFS\n",
        "\n",
        "class Node:\n",
        "    def __init__(self, value):\n",
        "        self.value = value\n",
        "        self.left = None\n",
        "        self.right = None\n",
        "\n",
        "def inorder_traversal(root):\n",
        "    if root:\n",
        "        inorder_traversal(root.left)\n",
        "        print(root.value, end=\" \")\n",
        "        inorder_traversal(root.right)\n",
        "\n",
        "def preorder_traversal(root):\n",
        "    if root:\n",
        "        print(root.value, end=\" \")\n",
        "        preorder_traversal(root.left)\n",
        "        preorder_traversal(root.right)\n",
        "\n",
        "def postorder_traversal(root):\n",
        "    if root:\n",
        "        postorder_traversal(root.left)\n",
        "        postorder_traversal(root.right)\n",
        "        print(root.value, end=\" \")\n",
        "\n",
        "root = Node(1)\n",
        "root.left = Node(2)\n",
        "root.right = Node(3)\n",
        "root.left.left = Node(4)\n",
        "root.left.right = Node(5)\n",
        "root.right.left = Node(6)\n",
        "root.right.right = Node(7)\n",
        "\n",
        "print(\"In-order Traversal:\")\n",
        "inorder_traversal(root)\n",
        "\n",
        "print(\"\\nPre-order Traversal:\")\n",
        "preorder_traversal(root)\n",
        "\n",
        "print(\"\\nPost-order Traversal:\")\n",
        "postorder_traversal(root)\n"
      ],
      "metadata": {
        "colab": {
          "base_uri": "https://localhost:8080/"
        },
        "id": "RAWCpzla2vY6",
        "outputId": "7c4d5902-2def-4a23-b81b-f9d8ec6c2ee8"
      },
      "execution_count": 2,
      "outputs": [
        {
          "output_type": "stream",
          "name": "stdout",
          "text": [
            "In-order Traversal:\n",
            "4 2 5 1 6 3 7 \n",
            "Pre-order Traversal:\n",
            "1 2 4 5 3 6 7 \n",
            "Post-order Traversal:\n",
            "4 5 2 6 7 3 1 "
          ]
        }
      ]
    },
    {
      "cell_type": "code",
      "source": [],
      "metadata": {
        "id": "C-CiKceT3a_7"
      },
      "execution_count": null,
      "outputs": []
    }
  ]
}